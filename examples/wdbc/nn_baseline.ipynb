{
 "cells": [
  {
   "cell_type": "code",
   "execution_count": 1,
   "metadata": {},
   "outputs": [
    {
     "name": "stdout",
     "output_type": "stream",
     "text": [
      "/home/adam/dev/gradual-aacbr/examples\n"
     ]
    }
   ],
   "source": [
    "import sys\n",
    "import os\n",
    "\n",
    "# Get the parent directory\n",
    "parent_dir = os.path.abspath(os.path.join(os.getcwd(), os.pardir))\n",
    "\n",
    "# Add parent directory to sys.path\n",
    "sys.path.append(parent_dir)\n",
    "\n",
    "print(parent_dir)"
   ]
  },
  {
   "cell_type": "code",
   "execution_count": 2,
   "metadata": {},
   "outputs": [],
   "source": [
    "import torch\n",
    "import torch.optim as optim\n",
    "import numpy as np\n",
    "from matplotlib import pyplot as plt\n",
    "\n",
    "import deeparguing.feature_extractor.feature_weighted_extractor as fwe\n",
    "import deeparguing.feature_extractor.mlp_extractor as mlpe\n",
    "\n",
    "from helper import load_wdbc, split_data, normalise_input\n",
    "from sklearn.metrics import accuracy_score, precision_score, recall_score, f1_score, confusion_matrix, ConfusionMatrixDisplay"
   ]
  },
  {
   "cell_type": "code",
   "execution_count": 3,
   "metadata": {},
   "outputs": [
    {
     "name": "stdout",
     "output_type": "stream",
     "text": [
      "cuda\n"
     ]
    }
   ],
   "source": [
    "device = torch.device(\"cuda\" if torch.cuda.is_available() else \"cpu\")\n",
    "print(device)"
   ]
  },
  {
   "cell_type": "code",
   "execution_count": 4,
   "metadata": {},
   "outputs": [],
   "source": [
    "SEED = 42"
   ]
  },
  {
   "cell_type": "code",
   "execution_count": 5,
   "metadata": {},
   "outputs": [
    {
     "name": "stdout",
     "output_type": "stream",
     "text": [
      "[[0. 1.]\n",
      " [1. 0.]]\n",
      "Test Size:  114\n",
      "Train Size:  364\n",
      "Validation Size:  91\n"
     ]
    }
   ],
   "source": [
    "X, y = load_wdbc()\n",
    "\n",
    "all_y = np.unique(y, axis=0)\n",
    "print(all_y)\n",
    "\n",
    "train_full, train, val, test = split_data(X, y, SEED)\n",
    "\n",
    "print(f\"Test Size:  {len(test['X'])}\")\n",
    "print(f\"Train Size:  {len(train['X'])}\")\n",
    "print(f\"Validation Size:  {len(val['X'])}\")"
   ]
  },
  {
   "cell_type": "code",
   "execution_count": 6,
   "metadata": {},
   "outputs": [],
   "source": [
    "X_train_full, y_train_full = torch.tensor(train_full[\"X\"], device=device),      torch.tensor(train_full[\"y\"], dtype=torch.float32, device=device)\n",
    "X_train, y_train           = torch.tensor(train[\"X\"]     , device=device),      torch.tensor(train[\"y\"],      dtype=torch.float32, device=device)\n",
    "X_val, y_val               = torch.tensor(val[\"X\"]       , device=device),      torch.tensor(val[\"y\"],        dtype=torch.float32, device=device)\n",
    "X_test, y_test             = torch.tensor(test[\"X\"]      , device=device),      torch.tensor(test[\"y\"],       dtype=torch.float32, device=device)"
   ]
  },
  {
   "cell_type": "code",
   "execution_count": 7,
   "metadata": {},
   "outputs": [],
   "source": [
    "train_mean = X_train.mean(dim=0)\n",
    "train_std = X_train.std(dim=0)\n",
    "\n",
    "X_train = normalise_input(X_train, train_mean, train_std)\n",
    "X_val = normalise_input(X_val, train_mean, train_std)\n",
    "X_test = normalise_input(X_test, train_mean, train_std)"
   ]
  },
  {
   "cell_type": "code",
   "execution_count": 8,
   "metadata": {},
   "outputs": [
    {
     "data": {
      "text/plain": [
       "<torch._C.Generator at 0x7958b4092050>"
      ]
     },
     "execution_count": 8,
     "metadata": {},
     "output_type": "execute_result"
    }
   ],
   "source": [
    "EPOCHS = 500\n",
    "LR = 2e-2\n",
    "torch_seed = 0\n",
    "torch.manual_seed(torch_seed) "
   ]
  },
  {
   "cell_type": "code",
   "execution_count": 9,
   "metadata": {},
   "outputs": [],
   "source": [
    "no_features = X_train.shape[-1]\n",
    "\n",
    "model = mlpe.MLPExtractor(no_features, [], 2).to(device)\n",
    "\n",
    "\n",
    "criterion = torch.nn.CrossEntropyLoss()\n",
    "optimizer = optim.AdamW(model.parameters(), lr=LR)"
   ]
  },
  {
   "cell_type": "code",
   "execution_count": 10,
   "metadata": {},
   "outputs": [],
   "source": [
    "def eval_model(model, X, y):\n",
    "    # Assess the model pre-training\n",
    "    with torch.no_grad():\n",
    "        y_preds = torch.argmax(model(X), dim=1).cpu().detach().numpy()\n",
    "        y_actual = torch.argmax(y, dim=1).cpu().numpy()\n",
    "\n",
    "        # print(\"predictions\", y_preds)\n",
    "        # print(\"actuals\", y_actual)\n",
    "\n",
    "        results = ( \n",
    "            accuracy_score(y_actual, y_preds),\n",
    "            precision_score(y_actual, y_preds, average='macro', zero_division=0),\n",
    "            recall_score(y_actual, y_preds, average='macro', zero_division=0),\n",
    "            f1_score(y_actual, y_preds, average='macro', zero_division=0),\n",
    "            confusion_matrix(y_actual, y_preds)\n",
    "        )\n",
    "\n",
    "\n",
    "        print(\"Accuracy, precision, recall, f1\")\n",
    "        print(results[:-1])\n",
    "        print(\"confusion matrix:\")\n",
    "        print(results[-1])"
   ]
  },
  {
   "cell_type": "code",
   "execution_count": 11,
   "metadata": {},
   "outputs": [],
   "source": [
    "losses = np.zeros((EPOCHS))\n",
    "for epoch in range(EPOCHS):\n",
    "\n",
    "    optimizer.zero_grad()\n",
    "    y_preds = model(X_train)\n",
    "    loss = criterion(y_preds, y_train)\n",
    "    loss.backward()\n",
    "    losses[epoch] = loss.item()\n",
    "    optimizer.step()"
   ]
  },
  {
   "cell_type": "code",
   "execution_count": 12,
   "metadata": {},
   "outputs": [
    {
     "data": {
      "image/png": "[encoded data removed]",
      "text/plain": [
       "<Figure size 640x480 with 1 Axes>"
      ]
     },
     "metadata": {},
     "output_type": "display_data"
    }
   ],
   "source": [
    "plt.plot(losses)\n",
    "plt.show()"
   ]
  },
  {
   "cell_type": "code",
   "execution_count": 13,
   "metadata": {},
   "outputs": [
    {
     "name": "stdout",
     "output_type": "stream",
     "text": [
      "TRAINING SET\n",
      "Accuracy, precision, recall, f1\n",
      "(0.9945054945054945, np.float64(0.9940760993392572), np.float64(0.9940760993392572), np.float64(0.9940760993392572))\n",
      "confusion matrix:\n",
      "[[230   1]\n",
      " [  1 132]]\n"
     ]
    }
   ],
   "source": [
    "print(\"TRAINING SET\")\n",
    "eval_model(model, X_train, y_train)"
   ]
  },
  {
   "cell_type": "code",
   "execution_count": 14,
   "metadata": {},
   "outputs": [
    {
     "name": "stdout",
     "output_type": "stream",
     "text": [
      "VALIDATION SET\n",
      "Accuracy, precision, recall, f1\n",
      "(0.9560439560439561, np.float64(0.954040404040404), np.float64(0.954040404040404), np.float64(0.954040404040404))\n",
      "confusion matrix:\n",
      "[[53  2]\n",
      " [ 2 34]]\n"
     ]
    }
   ],
   "source": [
    "print(\"VALIDATION SET\")\n",
    "eval_model(model, X_val, y_val)"
   ]
  },
  {
   "cell_type": "code",
   "execution_count": 15,
   "metadata": {},
   "outputs": [
    {
     "name": "stdout",
     "output_type": "stream",
     "text": [
      "TEST SET\n",
      "Accuracy, precision, recall, f1\n",
      "(0.9824561403508771, np.float64(0.981329839502129), np.float64(0.981329839502129), np.float64(0.981329839502129))\n",
      "confusion matrix:\n",
      "[[70  1]\n",
      " [ 1 42]]\n"
     ]
    }
   ],
   "source": [
    "print(\"TEST SET\")\n",
    "eval_model(model, X_test, y_test)"
   ]
  }
 ],
 "metadata": {
  "kernelspec": {
   "display_name": "gradual-aacbr",
   "language": "python",
   "name": "python3"
  },
  "language_info": {
   "codemirror_mode": {
    "name": "ipython",
    "version": 3
   },
   "file_extension": ".py",
   "mimetype": "text/x-python",
   "name": "python",
   "nbconvert_exporter": "python",
   "pygments_lexer": "ipython3",
   "version": "3.10.13"
  }
 },
 "nbformat": 4,
 "nbformat_minor": 2
}
