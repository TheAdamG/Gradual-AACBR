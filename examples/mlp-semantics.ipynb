{
 "cells": [
  {
   "cell_type": "code",
   "execution_count": 2,
   "metadata": {},
   "outputs": [],
   "source": [
    "import torch"
   ]
  },
  {
   "cell_type": "markdown",
   "metadata": {},
   "source": [
    "## MLP SEMANTICS"
   ]
  },
  {
   "cell_type": "markdown",
   "metadata": {},
   "source": [
    "My implementation of:\n",
    "\n",
    "Potyka, N., 2021, May. Interpreting neural networks as quantitative argumentation frameworks. \\\n",
    "In Proceedings of the AAAI Conference on Artificial Intelligence (Vol. 35, No. 7, pp. 6463-6470)."
   ]
  },
  {
   "cell_type": "code",
   "execution_count": 4,
   "metadata": {},
   "outputs": [],
   "source": [
    "class MLPSemantics(torch.nn.Module):\n",
    "\n",
    "    def __init__(self, nodes, A):\n",
    "        super(MLPSemantics, self).__init__()\n",
    "        # n = no.nodes\n",
    "        self.nodes = nodes # (n) - Nodes base strengths \n",
    "        self.A = A # (n, n) - Weighted adjacency matrix \n",
    "    \n",
    "\n",
    "    def forward(self, max_iters=5):\n",
    "\n",
    "        base_scores = self.nodes \n",
    "\n",
    "        strengths = [base_scores]\n",
    "        base_score_influence = torch.log(base_scores/(1-base_scores))\n",
    "        for i in range(max_iters):\n",
    "            aggregations = torch.matmul(self.A.T, strengths[i]) # (incoming edges linear combination with strengths of node) \n",
    "            influences = torch.sigmoid(base_score_influence  + aggregations)\n",
    "            strengths.append(influences)\n",
    "\n",
    "        return strengths \n",
    "\n",
    "\n",
    "\n"
   ]
  },
  {
   "cell_type": "code",
   "execution_count": null,
   "metadata": {},
   "outputs": [],
   "source": [
    "nodes = torch.ones(5)\n",
    "nodes[0] = nodes[0] * 0.5\n",
    "nodes[1] = nodes[1] * 0.5\n",
    "nodes[2] = nodes[2] * 0.7\n",
    "nodes[3] = nodes[3] * 0.8\n",
    "nodes[4] = nodes[4] * 0.9\n",
    "\n",
    "\n",
    "A = torch.tensor([\n",
    "                #    0  1  2  3  4\n",
    "                    [0, -2, 0, 0, 0], # 0\n",
    "                    [-2, 0, 0, 0, 0], # 1\n",
    "                    [2, 0, 0, -2, 0], # 2\n",
    "                    [0, 2, 0, 0, 0], # 3\n",
    "                    [2, 0, 0, -2, 0], # 4\n",
    "                ], dtype=torch.float32)\n",
    "\n",
    "model = MLPSemantics(nodes, A)\n",
    "\n",
    "result = model()\n",
    "\n",
    "for r in result:\n",
    "    print(r)\n"
   ]
  },
  {
   "cell_type": "markdown",
   "metadata": {},
   "source": [
    "Notes:\n",
    "\n",
    "- Base Scores cannot be set to 0 or 1 - they cannot changed under gradual semantics"
   ]
  }
 ],
 "metadata": {
  "kernelspec": {
   "display_name": "Python 3",
   "language": "python",
   "name": "python3"
  },
  "language_info": {
   "codemirror_mode": {
    "name": "ipython",
    "version": 3
   },
   "file_extension": ".py",
   "mimetype": "text/x-python",
   "name": "python",
   "nbconvert_exporter": "python",
   "pygments_lexer": "ipython3",
   "version": "3.10.13"
  }
 },
 "nbformat": 4,
 "nbformat_minor": 2
}
